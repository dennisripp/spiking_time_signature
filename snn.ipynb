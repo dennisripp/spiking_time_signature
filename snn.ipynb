{
 "cells": [
  {
   "cell_type": "code",
   "execution_count": null,
   "metadata": {},
   "outputs": [],
   "source": [
    "import os\n",
    "import librosa\n",
    "import numpy as np\n",
    "import matplotlib.pyplot as plt\n",
    "from brian2 import *\n",
    "\n",
    "\n",
    "## Preprocessing files\n",
    "\n",
    "def preprocess_audio(file_path):\n",
    "    y, sr = librosa.load(file_path)\n",
    "    mfccs = librosa.feature.mfcc(y=y, sr=sr)\n",
    "    spectral_contrast = librosa.feature.spectral_contrast(y=y, sr=sr)\n",
    "    chromagram = librosa.feature.chroma_stft(y=y, sr=sr)\n",
    "    \n",
    "    # Stacking features horizontally\n",
    "    combined_features = np.vstack([mfccs, spectral_contrast, chromagram])\n",
    "    # Encoding step: Normalize to range [0, 1]\n",
    "    encoded_features = (combined_features - np.min(combined_features)) / (np.max(combined_features) - np.min(combined_features))\n",
    "    \n",
    "    return encoded_features\n",
    "\n",
    "\n",
    "def count_files(directory):\n",
    "    return sum([len(files) for _, _, files in os.walk(directory)])\n",
    "\n",
    "def load_and_preprocess_data(directory):\n",
    "    data = []\n",
    "    labels = []\n",
    "\n",
    "    total_files = count_files(directory)\n",
    "    processed_files = 0\n",
    "\n",
    "    for label, time_sig in enumerate(['1_4', '2_4', '3_4', '4_4']):\n",
    "        for file in os.listdir(f'{directory}/{time_sig}'):\n",
    "            file_path = os.path.join(directory, time_sig, file)\n",
    "            processed_data = preprocess_audio(file_path)\n",
    "            data.append(processed_data)\n",
    "            labels.append(label)\n",
    "\n",
    "            # Update progress\n",
    "            processed_files += 1\n",
    "            print(f\"Processed {processed_files}/{total_files} files ({(processed_files/total_files)*100:.2f}%).\", end='\\r')\n",
    "\n",
    "    return data, labels\n",
    "\n",
    "print(\"Loading and preprocessing training data...\")\n",
    "training_data, training_labels = load_and_preprocess_data('training_data')\n",
    "print(\"\\nLoading and preprocessing validation data...\")\n",
    "validation_data, validation_labels = load_and_preprocess_data('validation_data')\n",
    "print(\"\\nDone with preprocessing!\")"
   ]
  },
  {
   "cell_type": "code",
   "execution_count": null,
   "metadata": {},
   "outputs": [],
   "source": []
  }
 ],
 "metadata": {
  "language_info": {
   "name": "python"
  },
  "orig_nbformat": 4
 },
 "nbformat": 4,
 "nbformat_minor": 2
}
